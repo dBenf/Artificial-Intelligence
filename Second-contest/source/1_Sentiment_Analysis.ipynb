{
 "cells": [
  {
   "cell_type": "code",
   "execution_count": 1,
   "metadata": {},
   "outputs": [
    {
     "name": "stderr",
     "output_type": "stream",
     "text": [
      "[nltk_data] Downloading package vader_lexicon to C:\\Users\\Pc\n",
      "[nltk_data]     Principale\\AppData\\Roaming\\nltk_data...\n",
      "[nltk_data]   Package vader_lexicon is already up-to-date!\n"
     ]
    },
    {
     "data": {
      "text/plain": [
       "True"
      ]
     },
     "execution_count": 1,
     "metadata": {},
     "output_type": "execute_result"
    }
   ],
   "source": [
    "import pandas as pd\n",
    "import os\n",
    "from nltk.sentiment import SentimentAnalyzer\n",
    "from nltk.sentiment.util import *\n",
    "from nltk.classify import NaiveBayesClassifier\n",
    "from nltk.corpus import subjectivity\n",
    "from nltk.sentiment.vader import SentimentIntensityAnalyzer\n",
    "\n",
    "nltk.download('vader_lexicon')"
   ]
  },
  {
   "cell_type": "markdown",
   "metadata": {},
   "source": [
    "Information of a tweet\n",
    "- id\n",
    "- created_at\n",
    "- text\n",
    "- user -> location\n",
    "\n",
    "Location is a bit useless, we can use:\n",
    "- timezone\n",
    "- geo\n",
    "- coordinates"
   ]
  },
  {
   "cell_type": "code",
   "execution_count": 2,
   "metadata": {},
   "outputs": [
    {
     "data": {
      "text/plain": [
       "{'id': 863857433160163329,\n",
       " 'created_at': 'Sun May 14 20:43:56 +0000 2017',\n",
       " 'text': 'Except when Trump mentioned that Hillary should have won... https://t.co/JwySbKjHy1',\n",
       " 'location': None,\n",
       " 'timezone': None,\n",
       " 'coord': None,\n",
       " 'place': {'id': 'dd3b100831dd1763',\n",
       "  'url': 'https://api.twitter.com/1.1/geo/id/dd3b100831dd1763.json',\n",
       "  'place_type': 'city',\n",
       "  'name': 'New Orleans',\n",
       "  'full_name': 'New Orleans, LA',\n",
       "  'country_code': 'US',\n",
       "  'country': 'United States',\n",
       "  'bounding_box': {'type': 'Polygon',\n",
       "   'coordinates': [[[-90.137908, 29.889574],\n",
       "     [-90.137908, 30.075628],\n",
       "     [-89.884108, 30.075628],\n",
       "     [-89.884108, 29.889574]]]},\n",
       "  'attributes': {}}}"
      ]
     },
     "execution_count": 2,
     "metadata": {},
     "output_type": "execute_result"
    }
   ],
   "source": [
    "# analisi dei tweet che contengono trump\n",
    "hashtag = 'trump'\n",
    "\n",
    "tweets = []\n",
    "with open(hashtag+'.json', 'r') as f:\n",
    "    for line in f:\n",
    "        tweet = {}\n",
    "        dict_tweet = json.loads(line)\n",
    "        tweet['id'] = dict_tweet['id']\n",
    "        tweet['created_at'] = dict_tweet['created_at']\n",
    "        tweet['text'] = dict_tweet['text']\n",
    "        tweet['location'] = dict_tweet['user']['location']\n",
    "        tweet['timezone'] = dict_tweet['user']['time_zone']\n",
    "        tweet['coord'] = dict_tweet['coordinates']\n",
    "        tweet['place'] = dict_tweet['place']\n",
    "        tweets.append(tweet)\n",
    "tweets[0]"
   ]
  },
  {
   "cell_type": "code",
   "execution_count": 3,
   "metadata": {},
   "outputs": [],
   "source": [
    "df_tweets = pd.DataFrame.from_dict(tweets)"
   ]
  },
  {
   "cell_type": "code",
   "execution_count": 4,
   "metadata": {},
   "outputs": [
    {
     "data": {
      "text/plain": [
       "coord           0\n",
       "created_at    117\n",
       "id            117\n",
       "location       81\n",
       "place           1\n",
       "text          117\n",
       "timezone       76\n",
       "dtype: int64"
      ]
     },
     "execution_count": 4,
     "metadata": {},
     "output_type": "execute_result"
    }
   ],
   "source": [
    "df_tweets.count()"
   ]
  },
  {
   "cell_type": "code",
   "execution_count": 5,
   "metadata": {},
   "outputs": [],
   "source": [
    "sid = SentimentIntensityAnalyzer()"
   ]
  },
  {
   "cell_type": "markdown",
   "metadata": {},
   "source": [
    "Compound Variable\n",
    "- positive sentiment: compound score >= 0.5\n",
    "- neutral sentiment: (compound score > -0.5) and (compound score < 0.5)\n",
    "- negative sentiment: compound score <= -0.5"
   ]
  },
  {
   "cell_type": "code",
   "execution_count": 6,
   "metadata": {},
   "outputs": [],
   "source": [
    "def sentiment(x):\n",
    "    sentence = x['text']\n",
    "    sentiment = 'neutral'\n",
    "    ss = sid.polarity_scores(sentence)\n",
    "    for k in sorted(ss):\n",
    "        if(k=='compound'):\n",
    "            if(ss[k]>=0.5):\n",
    "                sentiment = 'positive'\n",
    "            elif(ss[k]<=-0.5):\n",
    "                sentiment = 'negative'\n",
    "            else:\n",
    "                sentiment = 'neutral'\n",
    "    return sentiment"
   ]
  },
  {
   "cell_type": "code",
   "execution_count": 7,
   "metadata": {},
   "outputs": [],
   "source": [
    "def sentiment_compound(x):\n",
    "    sentence = x['text']\n",
    "    sentiment_compound = 0\n",
    "    ss = sid.polarity_scores(sentence)\n",
    "    for k in sorted(ss):\n",
    "        sentiment_compound = ss[k]\n",
    "    return sentiment_compound"
   ]
  },
  {
   "cell_type": "code",
   "execution_count": 8,
   "metadata": {},
   "outputs": [],
   "source": [
    "df_tweets['sentiment'] = df_tweets.apply(lambda x: sentiment(x), axis=1)\n",
    "df_tweets['sentiment_compound'] = df_tweets.apply(lambda x: sentiment_compound(x), axis=1)"
   ]
  },
  {
   "cell_type": "code",
   "execution_count": 9,
   "metadata": {},
   "outputs": [
    {
     "data": {
      "text/html": [
       "<div>\n",
       "<style scoped>\n",
       "    .dataframe tbody tr th:only-of-type {\n",
       "        vertical-align: middle;\n",
       "    }\n",
       "\n",
       "    .dataframe tbody tr th {\n",
       "        vertical-align: top;\n",
       "    }\n",
       "\n",
       "    .dataframe thead th {\n",
       "        text-align: right;\n",
       "    }\n",
       "</style>\n",
       "<table border=\"1\" class=\"dataframe\">\n",
       "  <thead>\n",
       "    <tr style=\"text-align: right;\">\n",
       "      <th></th>\n",
       "      <th>coord</th>\n",
       "      <th>created_at</th>\n",
       "      <th>id</th>\n",
       "      <th>location</th>\n",
       "      <th>place</th>\n",
       "      <th>text</th>\n",
       "      <th>timezone</th>\n",
       "      <th>sentiment</th>\n",
       "      <th>sentiment_compound</th>\n",
       "    </tr>\n",
       "  </thead>\n",
       "  <tbody>\n",
       "    <tr>\n",
       "      <th>0</th>\n",
       "      <td>None</td>\n",
       "      <td>Sun May 14 20:43:56 +0000 2017</td>\n",
       "      <td>863857433160163329</td>\n",
       "      <td>None</td>\n",
       "      <td>{'id': 'dd3b100831dd1763', 'url': 'https://api...</td>\n",
       "      <td>Except when Trump mentioned that Hillary shoul...</td>\n",
       "      <td>None</td>\n",
       "      <td>neutral</td>\n",
       "      <td>0.00</td>\n",
       "    </tr>\n",
       "    <tr>\n",
       "      <th>1</th>\n",
       "      <td>None</td>\n",
       "      <td>Sun May 14 20:43:59 +0000 2017</td>\n",
       "      <td>863857445382348801</td>\n",
       "      <td>noneya, business</td>\n",
       "      <td>None</td>\n",
       "      <td>RT @amjoyshow: .@TRIBELAW strongly proclaims w...</td>\n",
       "      <td>None</td>\n",
       "      <td>positive</td>\n",
       "      <td>0.25</td>\n",
       "    </tr>\n",
       "  </tbody>\n",
       "</table>\n",
       "</div>"
      ],
      "text/plain": [
       "  coord                      created_at                  id          location  \\\n",
       "0  None  Sun May 14 20:43:56 +0000 2017  863857433160163329              None   \n",
       "1  None  Sun May 14 20:43:59 +0000 2017  863857445382348801  noneya, business   \n",
       "\n",
       "                                               place  \\\n",
       "0  {'id': 'dd3b100831dd1763', 'url': 'https://api...   \n",
       "1                                               None   \n",
       "\n",
       "                                                text timezone sentiment  \\\n",
       "0  Except when Trump mentioned that Hillary shoul...     None   neutral   \n",
       "1  RT @amjoyshow: .@TRIBELAW strongly proclaims w...     None  positive   \n",
       "\n",
       "   sentiment_compound  \n",
       "0                0.00  \n",
       "1                0.25  "
      ]
     },
     "execution_count": 9,
     "metadata": {},
     "output_type": "execute_result"
    }
   ],
   "source": [
    "df_tweets.head(2)"
   ]
  },
  {
   "cell_type": "code",
   "execution_count": 10,
   "metadata": {},
   "outputs": [
    {
     "data": {
      "text/plain": [
       "coord                   0\n",
       "created_at            117\n",
       "id                    117\n",
       "location               81\n",
       "place                   1\n",
       "text                  117\n",
       "timezone               76\n",
       "sentiment             117\n",
       "sentiment_compound    117\n",
       "dtype: int64"
      ]
     },
     "execution_count": 10,
     "metadata": {},
     "output_type": "execute_result"
    }
   ],
   "source": [
    "df_tweets.count()"
   ]
  },
  {
   "cell_type": "code",
   "execution_count": 11,
   "metadata": {},
   "outputs": [
    {
     "data": {
      "text/plain": [
       "sentiment\n",
       "negative    10\n",
       "neutral     72\n",
       "positive    35\n",
       "Name: id, dtype: int64"
      ]
     },
     "execution_count": 11,
     "metadata": {},
     "output_type": "execute_result"
    }
   ],
   "source": [
    "df_tweets.groupby(['sentiment']).count()['id']"
   ]
  },
  {
   "cell_type": "code",
   "execution_count": 12,
   "metadata": {},
   "outputs": [],
   "source": [
    "pd.options.display.max_colwidth = 266"
   ]
  },
  {
   "cell_type": "code",
   "execution_count": 13,
   "metadata": {},
   "outputs": [
    {
     "data": {
      "text/html": [
       "<div>\n",
       "<style scoped>\n",
       "    .dataframe tbody tr th:only-of-type {\n",
       "        vertical-align: middle;\n",
       "    }\n",
       "\n",
       "    .dataframe tbody tr th {\n",
       "        vertical-align: top;\n",
       "    }\n",
       "\n",
       "    .dataframe thead th {\n",
       "        text-align: right;\n",
       "    }\n",
       "</style>\n",
       "<table border=\"1\" class=\"dataframe\">\n",
       "  <thead>\n",
       "    <tr style=\"text-align: right;\">\n",
       "      <th></th>\n",
       "      <th>coord</th>\n",
       "      <th>created_at</th>\n",
       "      <th>id</th>\n",
       "      <th>location</th>\n",
       "      <th>place</th>\n",
       "      <th>text</th>\n",
       "      <th>timezone</th>\n",
       "      <th>sentiment</th>\n",
       "      <th>sentiment_compound</th>\n",
       "    </tr>\n",
       "  </thead>\n",
       "  <tbody>\n",
       "    <tr>\n",
       "      <th>1</th>\n",
       "      <td>None</td>\n",
       "      <td>Sun May 14 20:43:59 +0000 2017</td>\n",
       "      <td>863857445382348801</td>\n",
       "      <td>noneya, business</td>\n",
       "      <td>None</td>\n",
       "      <td>RT @amjoyshow: .@TRIBELAW strongly proclaims why #Trump's impeachment process needs to start *NOW*. RETWEET TO AGREE #AMJoy https://t.co/8C…</td>\n",
       "      <td>None</td>\n",
       "      <td>positive</td>\n",
       "      <td>0.250</td>\n",
       "    </tr>\n",
       "    <tr>\n",
       "      <th>3</th>\n",
       "      <td>None</td>\n",
       "      <td>Sun May 14 20:44:01 +0000 2017</td>\n",
       "      <td>863857456132145152</td>\n",
       "      <td>None</td>\n",
       "      <td>None</td>\n",
       "      <td>RT @amjoyshow: .@TRIBELAW strongly proclaims why #Trump's impeachment process needs to start *NOW*. RETWEET TO AGREE #AMJoy https://t.co/8C…</td>\n",
       "      <td>Pacific Time (US &amp; Canada)</td>\n",
       "      <td>positive</td>\n",
       "      <td>0.250</td>\n",
       "    </tr>\n",
       "    <tr>\n",
       "      <th>14</th>\n",
       "      <td>None</td>\n",
       "      <td>Sun May 14 20:44:08 +0000 2017</td>\n",
       "      <td>863857483533754368</td>\n",
       "      <td>Texas 78750</td>\n",
       "      <td>None</td>\n",
       "      <td>RT @amjoyshow: .@TRIBELAW on #Trump: He feels empowered to act like a king or dictator demanding loyalty from people hired to inve…</td>\n",
       "      <td>Central Time (US &amp; Canada)</td>\n",
       "      <td>positive</td>\n",
       "      <td>0.232</td>\n",
       "    </tr>\n",
       "    <tr>\n",
       "      <th>15</th>\n",
       "      <td>None</td>\n",
       "      <td>Sun May 14 20:44:10 +0000 2017</td>\n",
       "      <td>863857493335830530</td>\n",
       "      <td>ohio</td>\n",
       "      <td>None</td>\n",
       "      <td>RT @Md_Renegade: Sound advice from the Dr. He has a the perfect treatment plan for TDS ( Trump Derangement Syndrome) https://t.co/2OGqeOcwcd</td>\n",
       "      <td>Eastern Time (US &amp; Canada)</td>\n",
       "      <td>positive</td>\n",
       "      <td>0.171</td>\n",
       "    </tr>\n",
       "    <tr>\n",
       "      <th>19</th>\n",
       "      <td>None</td>\n",
       "      <td>Sun May 14 20:44:12 +0000 2017</td>\n",
       "      <td>863857500940115969</td>\n",
       "      <td>Ottawa, ON Canada</td>\n",
       "      <td>None</td>\n",
       "      <td>RT @mcwalker64: Dr Seuss popular today. Saw a good one on a picket line today too. https://t.co/UKrcn8jw4i</td>\n",
       "      <td>Eastern Time (US &amp; Canada)</td>\n",
       "      <td>positive</td>\n",
       "      <td>0.305</td>\n",
       "    </tr>\n",
       "  </tbody>\n",
       "</table>\n",
       "</div>"
      ],
      "text/plain": [
       "   coord                      created_at                  id  \\\n",
       "1   None  Sun May 14 20:43:59 +0000 2017  863857445382348801   \n",
       "3   None  Sun May 14 20:44:01 +0000 2017  863857456132145152   \n",
       "14  None  Sun May 14 20:44:08 +0000 2017  863857483533754368   \n",
       "15  None  Sun May 14 20:44:10 +0000 2017  863857493335830530   \n",
       "19  None  Sun May 14 20:44:12 +0000 2017  863857500940115969   \n",
       "\n",
       "             location place  \\\n",
       "1    noneya, business  None   \n",
       "3                None  None   \n",
       "14        Texas 78750  None   \n",
       "15               ohio  None   \n",
       "19  Ottawa, ON Canada  None   \n",
       "\n",
       "                                                                                                                                            text  \\\n",
       "1   RT @amjoyshow: .@TRIBELAW strongly proclaims why #Trump's impeachment process needs to start *NOW*. RETWEET TO AGREE #AMJoy https://t.co/8C…   \n",
       "3   RT @amjoyshow: .@TRIBELAW strongly proclaims why #Trump's impeachment process needs to start *NOW*. RETWEET TO AGREE #AMJoy https://t.co/8C…   \n",
       "14          RT @amjoyshow: .@TRIBELAW on #Trump: He feels empowered to act like a king or dictator demanding loyalty from people hired to inve…    \n",
       "15  RT @Md_Renegade: Sound advice from the Dr. He has a the perfect treatment plan for TDS ( Trump Derangement Syndrome) https://t.co/2OGqeOcwcd   \n",
       "19                                    RT @mcwalker64: Dr Seuss popular today. Saw a good one on a picket line today too. https://t.co/UKrcn8jw4i   \n",
       "\n",
       "                      timezone sentiment  sentiment_compound  \n",
       "1                         None  positive               0.250  \n",
       "3   Pacific Time (US & Canada)  positive               0.250  \n",
       "14  Central Time (US & Canada)  positive               0.232  \n",
       "15  Eastern Time (US & Canada)  positive               0.171  \n",
       "19  Eastern Time (US & Canada)  positive               0.305  "
      ]
     },
     "execution_count": 13,
     "metadata": {},
     "output_type": "execute_result"
    }
   ],
   "source": [
    "df_tweets[(df_tweets['sentiment']=='positive')].head(5) "
   ]
  },
  {
   "cell_type": "code",
   "execution_count": 14,
   "metadata": {},
   "outputs": [
    {
     "data": {
      "text/html": [
       "<div>\n",
       "<style scoped>\n",
       "    .dataframe tbody tr th:only-of-type {\n",
       "        vertical-align: middle;\n",
       "    }\n",
       "\n",
       "    .dataframe tbody tr th {\n",
       "        vertical-align: top;\n",
       "    }\n",
       "\n",
       "    .dataframe thead th {\n",
       "        text-align: right;\n",
       "    }\n",
       "</style>\n",
       "<table border=\"1\" class=\"dataframe\">\n",
       "  <thead>\n",
       "    <tr style=\"text-align: right;\">\n",
       "      <th></th>\n",
       "      <th>coord</th>\n",
       "      <th>created_at</th>\n",
       "      <th>id</th>\n",
       "      <th>location</th>\n",
       "      <th>place</th>\n",
       "      <th>text</th>\n",
       "      <th>timezone</th>\n",
       "      <th>sentiment</th>\n",
       "      <th>sentiment_compound</th>\n",
       "    </tr>\n",
       "  </thead>\n",
       "  <tbody>\n",
       "    <tr>\n",
       "      <th>10</th>\n",
       "      <td>None</td>\n",
       "      <td>Sun May 14 20:44:05 +0000 2017</td>\n",
       "      <td>863857469948256256</td>\n",
       "      <td>None</td>\n",
       "      <td>None</td>\n",
       "      <td>RT @PhilipdClarke: #JamesClapper: #Trump is assaulting #US institutions https://t.co/55aukzkVoT @RamirezShauna33 @wonderfullone @retiredfir…</td>\n",
       "      <td>Pacific Time (US &amp; Canada)</td>\n",
       "      <td>negative</td>\n",
       "      <td>0.000</td>\n",
       "    </tr>\n",
       "    <tr>\n",
       "      <th>23</th>\n",
       "      <td>None</td>\n",
       "      <td>Sun May 14 20:44:19 +0000 2017</td>\n",
       "      <td>863857530618785792</td>\n",
       "      <td>None</td>\n",
       "      <td>None</td>\n",
       "      <td>@KurtSchlichter I am guessing #Trump would disagree on this. Stupid and Sketchy got him elected. #Resist</td>\n",
       "      <td>Pacific Time (US &amp; Canada)</td>\n",
       "      <td>negative</td>\n",
       "      <td>0.000</td>\n",
       "    </tr>\n",
       "    <tr>\n",
       "      <th>34</th>\n",
       "      <td>None</td>\n",
       "      <td>Sun May 14 20:44:23 +0000 2017</td>\n",
       "      <td>863857546997751808</td>\n",
       "      <td>#followback</td>\n",
       "      <td>None</td>\n",
       "      <td>@KellyannePolls plz keep out of wicked #Media!   #Sessions #ABC #NBC #CNN #NYTimes #US #USA #Jared #EU #UK #WSJ #NY… https://t.co/lOMVGWlJpk</td>\n",
       "      <td>Eastern Time (US &amp; Canada)</td>\n",
       "      <td>negative</td>\n",
       "      <td>0.057</td>\n",
       "    </tr>\n",
       "    <tr>\n",
       "      <th>47</th>\n",
       "      <td>None</td>\n",
       "      <td>Sun May 14 20:44:36 +0000 2017</td>\n",
       "      <td>863857601112657925</td>\n",
       "      <td>None</td>\n",
       "      <td>None</td>\n",
       "      <td>RT @starknightz: Fed Judge Drops Prosecution Bombshell abt Obama; asked 4 Benghazi doc's/ possible prosecution\\nhttps://t.co/h3dGMhQqj1 #Tru…</td>\n",
       "      <td>None</td>\n",
       "      <td>negative</td>\n",
       "      <td>0.000</td>\n",
       "    </tr>\n",
       "    <tr>\n",
       "      <th>53</th>\n",
       "      <td>None</td>\n",
       "      <td>Sun May 14 20:44:47 +0000 2017</td>\n",
       "      <td>863857647912710144</td>\n",
       "      <td>None</td>\n",
       "      <td>None</td>\n",
       "      <td>RT @MediaShrink: So @TeamTrump, Latest #DNC Released #FakeNews Smear! #GodSoeed @Flotus #Dems #Trump Fest hides Internal Fatal Flaws…</td>\n",
       "      <td>None</td>\n",
       "      <td>negative</td>\n",
       "      <td>0.000</td>\n",
       "    </tr>\n",
       "  </tbody>\n",
       "</table>\n",
       "</div>"
      ],
      "text/plain": [
       "   coord                      created_at                  id     location  \\\n",
       "10  None  Sun May 14 20:44:05 +0000 2017  863857469948256256         None   \n",
       "23  None  Sun May 14 20:44:19 +0000 2017  863857530618785792         None   \n",
       "34  None  Sun May 14 20:44:23 +0000 2017  863857546997751808  #followback   \n",
       "47  None  Sun May 14 20:44:36 +0000 2017  863857601112657925         None   \n",
       "53  None  Sun May 14 20:44:47 +0000 2017  863857647912710144         None   \n",
       "\n",
       "   place  \\\n",
       "10  None   \n",
       "23  None   \n",
       "34  None   \n",
       "47  None   \n",
       "53  None   \n",
       "\n",
       "                                                                                                                                             text  \\\n",
       "10   RT @PhilipdClarke: #JamesClapper: #Trump is assaulting #US institutions https://t.co/55aukzkVoT @RamirezShauna33 @wonderfullone @retiredfir…   \n",
       "23                                       @KurtSchlichter I am guessing #Trump would disagree on this. Stupid and Sketchy got him elected. #Resist   \n",
       "34   @KellyannePolls plz keep out of wicked #Media!   #Sessions #ABC #NBC #CNN #NYTimes #US #USA #Jared #EU #UK #WSJ #NY… https://t.co/lOMVGWlJpk   \n",
       "47  RT @starknightz: Fed Judge Drops Prosecution Bombshell abt Obama; asked 4 Benghazi doc's/ possible prosecution\\nhttps://t.co/h3dGMhQqj1 #Tru…   \n",
       "53         RT @MediaShrink: So @TeamTrump, Latest #DNC Released #FakeNews Smear! #GodSoeed @Flotus #Dems #Trump Fest hides Internal Fatal Flaws…    \n",
       "\n",
       "                      timezone sentiment  sentiment_compound  \n",
       "10  Pacific Time (US & Canada)  negative               0.000  \n",
       "23  Pacific Time (US & Canada)  negative               0.000  \n",
       "34  Eastern Time (US & Canada)  negative               0.057  \n",
       "47                        None  negative               0.000  \n",
       "53                        None  negative               0.000  "
      ]
     },
     "execution_count": 14,
     "metadata": {},
     "output_type": "execute_result"
    }
   ],
   "source": [
    "df_tweets[(df_tweets['sentiment']=='negative')].head(5)"
   ]
  },
  {
   "cell_type": "code",
   "execution_count": 15,
   "metadata": {},
   "outputs": [],
   "source": [
    "# Save\n",
    "dir_df = os.path.join(os.path.abspath(''),'stg')\n",
    "result_filename = r'df_tweets.pkl'\n",
    "result_fullpath = os.path.join(dir_df, result_filename)\n",
    "df_tweets.to_pickle(result_fullpath)"
   ]
  },
  {
   "cell_type": "code",
   "execution_count": null,
   "metadata": {},
   "outputs": [],
   "source": []
  }
 ],
 "metadata": {
  "kernelspec": {
   "display_name": "Python 3",
   "language": "python",
   "name": "python3"
  },
  "language_info": {
   "codemirror_mode": {
    "name": "ipython",
    "version": 3
   },
   "file_extension": ".py",
   "mimetype": "text/x-python",
   "name": "python",
   "nbconvert_exporter": "python",
   "pygments_lexer": "ipython3",
   "version": "3.7.3"
  }
 },
 "nbformat": 4,
 "nbformat_minor": 2
}
